{
 "cells": [
  {
   "cell_type": "markdown",
   "id": "c0cd5470",
   "metadata": {
    "jp-MarkdownHeadingCollapsed": true
   },
   "source": [
    "# Processamento de Dados em Larga Escala com Spark\n",
    "\n",
    "## Informação Básica\n",
    "- **Título do Projeto**: Processamento de Dados em Larga Escala com Spark\n",
    "- **Alunos**:\n",
    "  - João Carneiro, Nº 50938\n",
    "  - Eduardo Abrantes, Nº 50391\n",
    "\n",
    "## Contribuição\n",
    "\n",
    "| Aluno        | Tarefa realizada                                                                 | Horas estimadas |\n",
    "|--------------|----------------------------------------------------------------------------------|-----------------|\n",
    "| João Carneiro   | ...  | 7h             |\n",
    "| Eduardo Abrantes  | ...        | 7h             |\n",
    "\n",
    "## Background e Motivação\n",
    "\n",
    "- Este projeto tem como objetivo ..."
   ]
  },
  {
   "cell_type": "markdown",
   "id": "e3a5042a-c407-4407-9f5c-ac99237c386f",
   "metadata": {},
   "source": [
    "# Pré-Requisitos"
   ]
  },
  {
   "cell_type": "markdown",
   "id": "e4938593-0d6d-4fb9-b501-5547f899b624",
   "metadata": {},
   "source": [
    "## Instalação dos Dados\n",
    "Antes de iniciar o projeto, é necessário realizar o download e preparação dos Dados Meteorológicos do GHCN-Daily. Siga os passos abaixo:"
   ]
  },
  {
   "cell_type": "markdown",
   "id": "48770d8a",
   "metadata": {
    "jp-MarkdownHeadingCollapsed": true
   },
   "source": [
    "## Setup de Dependências\n",
    "Para a realização deste projeto, foram utilizadas bibliotecas fundamentais do Python para Ciência de Dados. A instalação das dependências foi realizada através do comando:"
   ]
  },
  {
   "cell_type": "code",
   "execution_count": null,
   "id": "20429e46",
   "metadata": {},
   "outputs": [],
   "source": [
    "!pip install wikiextractor"
   ]
  },
  {
   "cell_type": "markdown",
   "id": "0d622916-9beb-4454-aae4-209bfe64ffb1",
   "metadata": {},
   "source": [
    "#### Descrição das Bibliotecas\n",
    "\n",
    "- wikiextractor: ...\n",
    "\n",
    "- ..."
   ]
  },
  {
   "cell_type": "markdown",
   "id": "ab753d14",
   "metadata": {
    "jp-MarkdownHeadingCollapsed": true
   },
   "source": [
    "## Extração do Dump da Wikipedia"
   ]
  },
  {
   "cell_type": "markdown",
   "id": "06e67a4c-d214-41d8-a8b1-3c05e1960f43",
   "metadata": {},
   "source": [
    "...\n",
    "\n",
    "O seguinte código foi utilizado para esta operação inicial:"
   ]
  },
  {
   "cell_type": "code",
   "execution_count": null,
   "id": "03fa29a4",
   "metadata": {},
   "outputs": [],
   "source": [
    "!python -m wikiextractor.WikiExtractor \"../data/wikipedia-dump/enwiki-latestpages-articles.xml.bz2\" -o \"../data/wikipedia-dump/text\" --no-templates"
   ]
  },
  {
   "cell_type": "markdown",
   "id": "16160249-b314-4ec0-ba40-02096f677467",
   "metadata": {},
   "source": [
    "# Exercício 1 ..."
   ]
  },
  {
   "cell_type": "markdown",
   "id": "4c028b45",
   "metadata": {},
   "source": [
    "# Declaração de Integridade\n",
    "\n",
    "> Eu, João Carneiro, estudante com o número de inscrição 50938 do 1º Ciclo em Informática Web, Móvel e na Nuvem da Universidade da Beira Interior, declaro ter desenvolvido o presente trabalho e elaborado o presente texto em total consonância com o Código de Integridade da Universidade da Beira Interior. Mais concretamente afirmo não ter incorrido em qualquer das variedades de Fraude Académica, e que aqui declaro conhecer, que em particular atendi à exigida referenciação de frases, extratos, imagens e outras formas de trabalho intelectual, e assumindo assim na íntegra as responsabilidades da autoria\n",
    "\n",
    "\n",
    "> Eu, Eduardo Abrantes, estudante com o número de inscrição 50391 do 1º Ciclo em Informática Web, Móvel e na Nuvem da Universidade da Beira Interior, declaro ter desenvolvido o presente trabalho e elaborado o presente texto em total consonância com o Código de Integridade da Universidade da Beira Interior. Mais concretamente afirmo não ter incorrido em qualquer das variedades de Fraude Académica, e que aqui declaro conhecer, que em particular atendi à exigida referenciação de frases, extratos, imagens e outras formas de trabalho intelectual, e assumindo assim na íntegra as responsabilidades da autoria\n",
    "\n",
    "Universidade da Beira Interior, Covilhã  \n",
    "02/06/2025\n"
   ]
  },
  {
   "cell_type": "code",
   "execution_count": null,
   "id": "124e119a-83e5-4c10-a7e4-1f5b7fb2280c",
   "metadata": {},
   "outputs": [],
   "source": []
  }
 ],
 "metadata": {
  "kernelspec": {
   "display_name": "Python 3 (ipykernel)",
   "language": "python",
   "name": "python3"
  },
  "language_info": {
   "codemirror_mode": {
    "name": "ipython",
    "version": 3
   },
   "file_extension": ".py",
   "mimetype": "text/x-python",
   "name": "python",
   "nbconvert_exporter": "python",
   "pygments_lexer": "ipython3",
   "version": "3.10.11"
  }
 },
 "nbformat": 4,
 "nbformat_minor": 5
}
